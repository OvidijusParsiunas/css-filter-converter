{
 "cells": [
  {
   "cell_type": "code",
   "execution_count": 1,
   "id": "be2800d1",
   "metadata": {},
   "outputs": [],
   "source": [
    "import pandas as pd\n",
    "import numpy as np\n",
    "import matplotlib.pyplot as plt\n",
    "import seaborn as sns"
   ]
  },
  {
   "cell_type": "code",
   "execution_count": 2,
   "id": "9503eebe",
   "metadata": {},
   "outputs": [],
   "source": [
    "trainingData = pd.read_csv(\"data/training-data.csv\")\n",
    "trainingLabels = pd.read_csv(\"data/training-labels.csv\")\n"
   ]
  },
  {
   "cell_type": "code",
   "execution_count": 3,
   "id": "e4251957",
   "metadata": {
    "scrolled": true
   },
   "outputs": [],
   "source": [
    "X = trainingData[['invert',  'sepia',  'saturate',  'hue-rotate',  'brightness',  'contrast']]\n",
    "y = trainingLabels['result']"
   ]
  },
  {
   "cell_type": "code",
   "execution_count": 7,
   "id": "ea652bc2",
   "metadata": {},
   "outputs": [
    {
     "name": "stdout",
     "output_type": "stream",
     "text": [
      "       result\n",
      "0           0\n",
      "1           1\n",
      "2           2\n",
      "3           3\n",
      "4           4\n",
      "...       ...\n",
      "99995      35\n",
      "99996      36\n",
      "99997      37\n",
      "99998      38\n",
      "99999      39\n",
      "\n",
      "[100000 rows x 1 columns]\n"
     ]
    }
   ],
   "source": [
    "print(trainingLabels)"
   ]
  },
  {
   "cell_type": "code",
   "execution_count": 5,
   "id": "1ea3cf2c",
   "metadata": {},
   "outputs": [],
   "source": [
    "from sklearn.model_selection import train_test_split\n",
    "from sklearn.linear_model import LinearRegression"
   ]
  },
  {
   "cell_type": "code",
   "execution_count": 6,
   "id": "c1b5552f",
   "metadata": {},
   "outputs": [],
   "source": [
    "X_train, X_test, y_train, y_test = train_test_split(X, y, test_size=0.4)"
   ]
  },
  {
   "cell_type": "code",
   "execution_count": 53,
   "id": "443f026e",
   "metadata": {},
   "outputs": [
    {
     "data": {
      "text/plain": [
       "LinearRegression()"
      ]
     },
     "execution_count": 53,
     "metadata": {},
     "output_type": "execute_result"
    }
   ],
   "source": [
    "lm = LinearRegression()\n",
    "lm.fit(X_train,y_train)"
   ]
  },
  {
   "cell_type": "code",
   "execution_count": 18,
   "id": "95245288",
   "metadata": {},
   "outputs": [],
   "source": [
    "from sklearn.neural_network import MLPClassifier"
   ]
  },
  {
   "cell_type": "code",
   "execution_count": 19,
   "id": "e9ebefd9",
   "metadata": {},
   "outputs": [
    {
     "data": {
      "text/plain": [
       "MLPClassifier(hidden_layer_sizes=(8, 8, 8), max_iter=500)"
      ]
     },
     "execution_count": 19,
     "metadata": {},
     "output_type": "execute_result"
    }
   ],
   "source": [
    "lm = MLPClassifier(hidden_layer_sizes=(8,8,8), activation='relu', solver='adam', max_iter=500)\n",
    "lm.fit(X_train,y_train)"
   ]
  },
  {
   "cell_type": "code",
   "execution_count": 66,
   "id": "ca3c7712",
   "metadata": {},
   "outputs": [
    {
     "data": {
      "text/plain": [
       "MLPClassifier(hidden_layer_sizes=(256, 128, 64, 32), random_state=1)"
      ]
     },
     "execution_count": 66,
     "metadata": {},
     "output_type": "execute_result"
    }
   ],
   "source": [
    "lm = MLPClassifier(hidden_layer_sizes=(256,128,64,32),activation=\"relu\",random_state=1)\n",
    "lm.fit(X_train,y_train)"
   ]
  },
  {
   "cell_type": "code",
   "execution_count": 54,
   "id": "e814aeba",
   "metadata": {},
   "outputs": [],
   "source": [
    "predictions = lm.predict(X_test)"
   ]
  },
  {
   "cell_type": "code",
   "execution_count": 67,
   "id": "a145c346",
   "metadata": {},
   "outputs": [
    {
     "name": "stdout",
     "output_type": "stream",
     "text": [
      "[185.5224332  232.38136946 128.16512714 ... 177.36405331 116.43327649\n",
      "  57.19893265]\n"
     ]
    }
   ],
   "source": [
    "print(predictions)"
   ]
  },
  {
   "cell_type": "code",
   "execution_count": 20,
   "id": "76574d29",
   "metadata": {},
   "outputs": [
    {
     "name": "stderr",
     "output_type": "stream",
     "text": [
      "c:\\users\\ovi\\appdata\\local\\programs\\python\\python37\\lib\\site-packages\\sklearn\\base.py:451: UserWarning: X does not have valid feature names, but MLPClassifier was fitted with feature names\n",
      "  \"X does not have valid feature names, but\"\n"
     ]
    },
    {
     "data": {
      "text/plain": [
       "array([7], dtype=int64)"
      ]
     },
     "execution_count": 20,
     "metadata": {},
     "output_type": "execute_result"
    }
   ],
   "source": [
    "lm.predict(np.array([[1,93,1783,352,110,104]]))"
   ]
  },
  {
   "cell_type": "code",
   "execution_count": 16,
   "id": "0d8d1732",
   "metadata": {},
   "outputs": [
    {
     "name": "stdout",
     "output_type": "stream",
     "text": [
      "Epoch 1/180\n",
      "36000/36000 [==============================] - 34s 948us/step - loss: 82.9040 - mean_squared_error: 12144.4111 - val_loss: 76.8122 - val_mean_squared_error: 11417.9668\n",
      "Epoch 2/180\n",
      "36000/36000 [==============================] - 34s 940us/step - loss: 60.1378 - mean_squared_error: 8100.9033 - val_loss: 47.9845 - val_mean_squared_error: 6057.4585\n",
      "Epoch 3/180\n",
      "36000/36000 [==============================] - 34s 942us/step - loss: 40.1115 - mean_squared_error: 4313.2217 - val_loss: 40.1864 - val_mean_squared_error: 3828.3914\n",
      "Epoch 4/180\n",
      "36000/36000 [==============================] - 34s 946us/step - loss: 35.0790 - mean_squared_error: 3472.8726 - val_loss: 35.7808 - val_mean_squared_error: 3478.0942\n",
      "Epoch 5/180\n",
      "36000/36000 [==============================] - 34s 949us/step - loss: 34.1496 - mean_squared_error: 3405.7622 - val_loss: 31.8018 - val_mean_squared_error: 3257.5806\n",
      "Epoch 6/180\n",
      "36000/36000 [==============================] - 34s 941us/step - loss: 33.2503 - mean_squared_error: 3332.5408 - val_loss: 33.3345 - val_mean_squared_error: 3294.5791\n",
      "Epoch 7/180\n",
      "36000/36000 [==============================] - 34s 942us/step - loss: 31.1697 - mean_squared_error: 3189.4661 - val_loss: 27.9380 - val_mean_squared_error: 3029.4087\n",
      "Epoch 8/180\n",
      "36000/36000 [==============================] - 34s 947us/step - loss: 29.9705 - mean_squared_error: 3110.9104 - val_loss: 33.0458 - val_mean_squared_error: 3236.8506\n",
      "Epoch 9/180\n",
      "36000/36000 [==============================] - 34s 947us/step - loss: 29.1387 - mean_squared_error: 3063.1868 - val_loss: 27.7981 - val_mean_squared_error: 2992.5593\n",
      "Epoch 10/180\n",
      "36000/36000 [==============================] - 34s 943us/step - loss: 28.8226 - mean_squared_error: 3046.1526 - val_loss: 27.5608 - val_mean_squared_error: 2989.3840\n",
      "Epoch 11/180\n",
      "36000/36000 [==============================] - 34s 949us/step - loss: 28.6194 - mean_squared_error: 3036.0603 - val_loss: 27.3179 - val_mean_squared_error: 2978.8242\n",
      "Epoch 12/180\n",
      "36000/36000 [==============================] - 34s 955us/step - loss: 28.5509 - mean_squared_error: 3031.3254 - val_loss: 28.8514 - val_mean_squared_error: 3053.4856\n",
      "Epoch 13/180\n",
      "36000/36000 [==============================] - 35s 973us/step - loss: 28.2464 - mean_squared_error: 3017.1548 - val_loss: 27.1047 - val_mean_squared_error: 2976.2576\n",
      "Epoch 14/180\n",
      "36000/36000 [==============================] - 35s 968us/step - loss: 28.1947 - mean_squared_error: 3012.8220 - val_loss: 28.4665 - val_mean_squared_error: 3020.1384\n",
      "Epoch 15/180\n",
      "36000/36000 [==============================] - 33s 918us/step - loss: 28.0972 - mean_squared_error: 3008.0234 - val_loss: 32.8320 - val_mean_squared_error: 3224.1572\n",
      "Epoch 16/180\n",
      "36000/36000 [==============================] - 34s 931us/step - loss: 27.9931 - mean_squared_error: 3004.3066 - val_loss: 28.4937 - val_mean_squared_error: 3033.7656\n",
      "Epoch 17/180\n",
      "36000/36000 [==============================] - 34s 934us/step - loss: 27.8728 - mean_squared_error: 2996.3203 - val_loss: 27.1994 - val_mean_squared_error: 2974.7781\n",
      "Epoch 18/180\n",
      "36000/36000 [==============================] - 36s 1ms/step - loss: 27.8116 - mean_squared_error: 2995.4407 - val_loss: 26.8725 - val_mean_squared_error: 2967.7009\n",
      "Epoch 19/180\n",
      "36000/36000 [==============================] - 36s 997us/step - loss: 27.7317 - mean_squared_error: 2991.0691 - val_loss: 26.3803 - val_mean_squared_error: 2938.6458\n",
      "Epoch 20/180\n",
      "36000/36000 [==============================] - 37s 1ms/step - loss: 27.6937 - mean_squared_error: 2990.5601 - val_loss: 27.3845 - val_mean_squared_error: 2980.3008\n",
      "Epoch 21/180\n",
      "36000/36000 [==============================] - 40s 1ms/step - loss: 27.5404 - mean_squared_error: 2983.2505 - val_loss: 28.6997 - val_mean_squared_error: 3023.9231\n",
      "Epoch 22/180\n",
      "36000/36000 [==============================] - 39s 1ms/step - loss: 27.5046 - mean_squared_error: 2981.9595 - val_loss: 31.2613 - val_mean_squared_error: 3190.1506\n",
      "Epoch 23/180\n",
      "36000/36000 [==============================] - 34s 948us/step - loss: 27.4721 - mean_squared_error: 2980.7312 - val_loss: 26.4420 - val_mean_squared_error: 2942.0986\n",
      "Epoch 24/180\n",
      "36000/36000 [==============================] - 34s 952us/step - loss: 27.4363 - mean_squared_error: 2979.0386 - val_loss: 28.0253 - val_mean_squared_error: 2993.0701\n",
      "Epoch 25/180\n",
      "36000/36000 [==============================] - 34s 948us/step - loss: 27.3271 - mean_squared_error: 2971.9780 - val_loss: 34.8435 - val_mean_squared_error: 3409.8811\n",
      "Epoch 26/180\n",
      "36000/36000 [==============================] - 34s 955us/step - loss: 27.3874 - mean_squared_error: 2976.2754 - val_loss: 27.1480 - val_mean_squared_error: 2978.6304\n",
      "Epoch 27/180\n",
      "36000/36000 [==============================] - 36s 1ms/step - loss: 27.3033 - mean_squared_error: 2972.3081 - val_loss: 26.2135 - val_mean_squared_error: 2929.8667\n",
      "Epoch 28/180\n",
      "36000/36000 [==============================] - 35s 959us/step - loss: 27.2147 - mean_squared_error: 2969.8518 - val_loss: 27.6036 - val_mean_squared_error: 3001.6377\n",
      "Epoch 29/180\n",
      "36000/36000 [==============================] - 35s 959us/step - loss: 27.1677 - mean_squared_error: 2967.6877 - val_loss: 26.3348 - val_mean_squared_error: 2939.1548\n",
      "Epoch 30/180\n",
      "36000/36000 [==============================] - 35s 985us/step - loss: 27.1420 - mean_squared_error: 2965.2126 - val_loss: 29.7862 - val_mean_squared_error: 3061.0938\n",
      "Epoch 31/180\n",
      "36000/36000 [==============================] - 36s 997us/step - loss: 27.0997 - mean_squared_error: 2964.1609 - val_loss: 26.8223 - val_mean_squared_error: 2957.2864\n",
      "Epoch 32/180\n",
      "36000/36000 [==============================] - 35s 976us/step - loss: 27.0662 - mean_squared_error: 2961.5459 - val_loss: 27.8021 - val_mean_squared_error: 2993.2822\n",
      "Epoch 33/180\n",
      "36000/36000 [==============================] - 34s 949us/step - loss: 27.0310 - mean_squared_error: 2959.8799 - val_loss: 29.1986 - val_mean_squared_error: 3077.5408\n",
      "Epoch 34/180\n",
      "36000/36000 [==============================] - 34s 956us/step - loss: 27.0622 - mean_squared_error: 2960.3628 - val_loss: 30.2235 - val_mean_squared_error: 3122.2339\n",
      "Epoch 35/180\n",
      "36000/36000 [==============================] - 36s 990us/step - loss: 26.9283 - mean_squared_error: 2957.7439 - val_loss: 25.3895 - val_mean_squared_error: 2910.3254\n",
      "Epoch 36/180\n",
      "36000/36000 [==============================] - 35s 963us/step - loss: 26.9586 - mean_squared_error: 2956.3181 - val_loss: 26.9195 - val_mean_squared_error: 2955.8318\n",
      "Epoch 37/180\n",
      "36000/36000 [==============================] - 35s 966us/step - loss: 26.9039 - mean_squared_error: 2955.4719 - val_loss: 25.1506 - val_mean_squared_error: 2899.2354\n",
      "Epoch 38/180\n",
      "36000/36000 [==============================] - 35s 959us/step - loss: 26.8764 - mean_squared_error: 2952.6365 - val_loss: 25.9295 - val_mean_squared_error: 2923.2686\n",
      "Epoch 39/180\n",
      "36000/36000 [==============================] - 34s 955us/step - loss: 26.9201 - mean_squared_error: 2955.4907 - val_loss: 26.5355 - val_mean_squared_error: 2942.8696\n",
      "Epoch 40/180\n",
      "36000/36000 [==============================] - 35s 983us/step - loss: 26.8530 - mean_squared_error: 2953.0955 - val_loss: 25.7323 - val_mean_squared_error: 2918.6433\n",
      "Epoch 41/180\n",
      "36000/36000 [==============================] - 34s 947us/step - loss: 26.7654 - mean_squared_error: 2948.6592 - val_loss: 25.7335 - val_mean_squared_error: 2921.8550\n",
      "Epoch 42/180\n",
      "36000/36000 [==============================] - 34s 945us/step - loss: 26.8137 - mean_squared_error: 2950.9067 - val_loss: 26.2918 - val_mean_squared_error: 2937.6040- mean_squared_error: 2951.\n",
      "Epoch 43/180\n",
      "36000/36000 [==============================] - 35s 973us/step - loss: 26.7402 - mean_squared_error: 2948.7546 - val_loss: 27.7959 - val_mean_squared_error: 3005.7383\n",
      "Epoch 44/180\n",
      "36000/36000 [==============================] - 34s 953us/step - loss: 26.7937 - mean_squared_error: 2951.8838 - val_loss: 25.6107 - val_mean_squared_error: 2912.1760\n",
      "Epoch 45/180\n",
      "36000/36000 [==============================] - 35s 976us/step - loss: 26.7151 - mean_squared_error: 2947.6826 - val_loss: 25.8720 - val_mean_squared_error: 2924.7451\n",
      "Epoch 46/180\n",
      "36000/36000 [==============================] - 36s 1ms/step - loss: 26.6769 - mean_squared_error: 2944.9436 - val_loss: 26.2538 - val_mean_squared_error: 2933.6914\n",
      "Epoch 47/180\n",
      "36000/36000 [==============================] - 37s 1ms/step - loss: 26.7080 - mean_squared_error: 2945.8281 - val_loss: 27.4771 - val_mean_squared_error: 2986.9282\n",
      "Epoch 48/180\n",
      "36000/36000 [==============================] - 36s 995us/step - loss: 26.6372 - mean_squared_error: 2944.0854 - val_loss: 26.8578 - val_mean_squared_error: 2969.3237\n",
      "Epoch 49/180\n",
      "36000/36000 [==============================] - 36s 1ms/step - loss: 26.5556 - mean_squared_error: 2941.9006 - val_loss: 32.1483 - val_mean_squared_error: 3149.5801\n",
      "Epoch 50/180\n",
      "36000/36000 [==============================] - 39s 1ms/step - loss: 26.5979 - mean_squared_error: 2941.8933 - val_loss: 27.3140 - val_mean_squared_error: 2967.9773\n",
      "Epoch 51/180\n",
      "36000/36000 [==============================] - 35s 981us/step - loss: 26.5915 - mean_squared_error: 2942.1770 - val_loss: 25.0383 - val_mean_squared_error: 2896.3228\n",
      "Epoch 52/180\n",
      "36000/36000 [==============================] - 34s 955us/step - loss: 26.5741 - mean_squared_error: 2941.1311 - val_loss: 26.3103 - val_mean_squared_error: 2933.2625\n",
      "Epoch 53/180\n",
      "36000/36000 [==============================] - 35s 970us/step - loss: 26.5775 - mean_squared_error: 2942.0984 - val_loss: 32.0690 - val_mean_squared_error: 3185.6594\n",
      "Epoch 54/180\n",
      "36000/36000 [==============================] - 35s 965us/step - loss: 26.5904 - mean_squared_error: 2942.4844 - val_loss: 25.5077 - val_mean_squared_error: 2910.0764\n",
      "Epoch 55/180\n",
      "36000/36000 [==============================] - 34s 943us/step - loss: 26.5562 - mean_squared_error: 2939.0037 - val_loss: 26.4507 - val_mean_squared_error: 2946.7529\n",
      "Epoch 56/180\n",
      "36000/36000 [==============================] - 36s 986us/step - loss: 26.4589 - mean_squared_error: 2937.2383 - val_loss: 25.6679 - val_mean_squared_error: 2917.2612\n",
      "Epoch 57/180\n",
      "36000/36000 [==============================] - 34s 952us/step - loss: 26.4626 - mean_squared_error: 2936.1968 - val_loss: 32.8953 - val_mean_squared_error: 3208.1978\n",
      "Epoch 58/180\n",
      "36000/36000 [==============================] - 35s 970us/step - loss: 26.4726 - mean_squared_error: 2937.8503 - val_loss: 25.3182 - val_mean_squared_error: 2908.3762\n",
      "Epoch 59/180\n",
      "36000/36000 [==============================] - 34s 958us/step - loss: 26.4549 - mean_squared_error: 2935.5090 - val_loss: 27.6466 - val_mean_squared_error: 2990.4407\n",
      "Epoch 60/180\n",
      "36000/36000 [==============================] - 35s 975us/step - loss: 26.4962 - mean_squared_error: 2937.7268 - val_loss: 25.9176 - val_mean_squared_error: 2916.2124\n",
      "Epoch 61/180\n",
      "36000/36000 [==============================] - 34s 952us/step - loss: 26.4350 - mean_squared_error: 2936.1809 - val_loss: 28.0328 - val_mean_squared_error: 3000.2046\n",
      "Epoch 62/180\n",
      "36000/36000 [==============================] - 34s 949us/step - loss: 26.4128 - mean_squared_error: 2933.7612 - val_loss: 25.5554 - val_mean_squared_error: 2910.3816\n",
      "Epoch 63/180\n",
      "36000/36000 [==============================] - 34s 941us/step - loss: 26.4139 - mean_squared_error: 2933.9849 - val_loss: 25.4566 - val_mean_squared_error: 2908.5627\n",
      "Epoch 64/180\n",
      "36000/36000 [==============================] - 34s 953us/step - loss: 26.4027 - mean_squared_error: 2934.2175 - val_loss: 27.3799 - val_mean_squared_error: 2981.7864\n",
      "Epoch 65/180\n",
      "36000/36000 [==============================] - 34s 938us/step - loss: 26.3531 - mean_squared_error: 2931.8142 - val_loss: 24.8887 - val_mean_squared_error: 2891.1289\n",
      "Epoch 66/180\n",
      "36000/36000 [==============================] - 35s 960us/step - loss: 26.3954 - mean_squared_error: 2933.4458 - val_loss: 25.5528 - val_mean_squared_error: 2911.4897\n",
      "Epoch 67/180\n",
      "36000/36000 [==============================] - 34s 948us/step - loss: 26.3555 - mean_squared_error: 2932.1792 - val_loss: 25.4955 - val_mean_squared_error: 2907.4067\n",
      "Epoch 68/180\n",
      "36000/36000 [==============================] - 34s 941us/step - loss: 26.3402 - mean_squared_error: 2930.8430 - val_loss: 27.5331 - val_mean_squared_error: 2963.1833\n",
      "Epoch 69/180\n",
      "36000/36000 [==============================] - 34s 941us/step - loss: 26.3596 - mean_squared_error: 2932.2737 - val_loss: 25.3943 - val_mean_squared_error: 2914.1069\n",
      "Epoch 70/180\n",
      "36000/36000 [==============================] - 34s 945us/step - loss: 26.3711 - mean_squared_error: 2932.5791 - val_loss: 29.5812 - val_mean_squared_error: 3057.4136\n",
      "Epoch 71/180\n",
      "36000/36000 [==============================] - 34s 951us/step - loss: 26.2527 - mean_squared_error: 2928.4087 - val_loss: 26.4304 - val_mean_squared_error: 2932.0710\n",
      "Epoch 72/180\n",
      "36000/36000 [==============================] - 34s 940us/step - loss: 26.3403 - mean_squared_error: 2930.6746 - val_loss: 25.5320 - val_mean_squared_error: 2906.1379\n",
      "Epoch 73/180\n",
      "36000/36000 [==============================] - 34s 942us/step - loss: 26.2557 - mean_squared_error: 2928.3218 - val_loss: 27.3750 - val_mean_squared_error: 2960.0012\n",
      "Epoch 74/180\n",
      "36000/36000 [==============================] - 33s 930us/step - loss: 26.3514 - mean_squared_error: 2931.2590 - val_loss: 25.8121 - val_mean_squared_error: 2913.2900\n",
      "Epoch 75/180\n",
      "36000/36000 [==============================] - 34s 945us/step - loss: 26.2943 - mean_squared_error: 2929.5076 - val_loss: 25.2426 - val_mean_squared_error: 2900.5664\n",
      "Epoch 76/180\n",
      "36000/36000 [==============================] - 34s 941us/step - loss: 26.2222 - mean_squared_error: 2926.5730 - val_loss: 29.8635 - val_mean_squared_error: 3092.6050\n",
      "Epoch 77/180\n",
      "36000/36000 [==============================] - 34s 941us/step - loss: 26.2967 - mean_squared_error: 2929.4819 - val_loss: 27.8643 - val_mean_squared_error: 2987.8340\n",
      "Epoch 78/180\n",
      "36000/36000 [==============================] - 34s 938us/step - loss: 26.2421 - mean_squared_error: 2927.8391 - val_loss: 26.4306 - val_mean_squared_error: 2933.4915\n",
      "Epoch 79/180\n",
      "36000/36000 [==============================] - 34s 944us/step - loss: 26.2201 - mean_squared_error: 2926.5188 - val_loss: 26.0690 - val_mean_squared_error: 2925.0833\n",
      "Epoch 80/180\n",
      "36000/36000 [==============================] - 34s 939us/step - loss: 26.2806 - mean_squared_error: 2927.5588 - val_loss: 27.0398 - val_mean_squared_error: 2960.6609\n",
      "Epoch 81/180\n",
      "36000/36000 [==============================] - 34s 941us/step - loss: 26.2213 - mean_squared_error: 2926.8340 - val_loss: 25.4892 - val_mean_squared_error: 2910.8333\n",
      "Epoch 82/180\n",
      "36000/36000 [==============================] - 34s 936us/step - loss: 26.2538 - mean_squared_error: 2926.4072 - val_loss: 24.9796 - val_mean_squared_error: 2890.4717\n",
      "Epoch 83/180\n",
      "36000/36000 [==============================] - 34s 939us/step - loss: 26.2505 - mean_squared_error: 2927.4626 - val_loss: 28.9191 - val_mean_squared_error: 3021.6636\n",
      "Epoch 84/180\n",
      "36000/36000 [==============================] - 34s 947us/step - loss: 26.1714 - mean_squared_error: 2924.5334 - val_loss: 26.0577 - val_mean_squared_error: 2918.7437\n",
      "Epoch 85/180\n",
      "36000/36000 [==============================] - 34s 941us/step - loss: 26.2111 - mean_squared_error: 2925.5190 - val_loss: 25.8095 - val_mean_squared_error: 2926.3401\n",
      "Epoch 86/180\n",
      "36000/36000 [==============================] - 34s 950us/step - loss: 26.1878 - mean_squared_error: 2924.8142 - val_loss: 25.0163 - val_mean_squared_error: 2893.5110\n",
      "Epoch 87/180\n",
      "36000/36000 [==============================] - 34s 939us/step - loss: 26.1498 - mean_squared_error: 2922.0942 - val_loss: 27.2121 - val_mean_squared_error: 2964.8416\n",
      "Epoch 88/180\n",
      "36000/36000 [==============================] - 34s 943us/step - loss: 26.1791 - mean_squared_error: 2924.9070 - val_loss: 25.3294 - val_mean_squared_error: 2898.2517\n",
      "Epoch 89/180\n",
      "36000/36000 [==============================] - 34s 943us/step - loss: 26.1559 - mean_squared_error: 2922.8840 - val_loss: 28.0142 - val_mean_squared_error: 2981.0237\n",
      "Epoch 90/180\n",
      "36000/36000 [==============================] - 34s 938us/step - loss: 26.1828 - mean_squared_error: 2922.9607 - val_loss: 25.1395 - val_mean_squared_error: 2898.4568\n",
      "Epoch 91/180\n"
     ]
    },
    {
     "name": "stdout",
     "output_type": "stream",
     "text": [
      "36000/36000 [==============================] - 34s 944us/step - loss: 26.0925 - mean_squared_error: 2921.1985 - val_loss: 25.6519 - val_mean_squared_error: 2912.9336\n",
      "Epoch 92/180\n",
      "36000/36000 [==============================] - 34s 939us/step - loss: 26.1658 - mean_squared_error: 2922.7710 - val_loss: 26.5741 - val_mean_squared_error: 2935.8652\n",
      "Epoch 93/180\n",
      "36000/36000 [==============================] - 34s 934us/step - loss: 26.1453 - mean_squared_error: 2924.3787 - val_loss: 26.3279 - val_mean_squared_error: 2925.9551\n",
      "Epoch 94/180\n",
      "36000/36000 [==============================] - 34s 943us/step - loss: 26.1304 - mean_squared_error: 2923.5698 - val_loss: 27.6623 - val_mean_squared_error: 2979.1326\n",
      "Epoch 95/180\n",
      "36000/36000 [==============================] - 34s 940us/step - loss: 26.1169 - mean_squared_error: 2921.4253 - val_loss: 25.0140 - val_mean_squared_error: 2894.7427\n",
      "Epoch 96/180\n",
      "36000/36000 [==============================] - 35s 966us/step - loss: 26.1218 - mean_squared_error: 2921.3542 - val_loss: 25.5407 - val_mean_squared_error: 2904.2822\n",
      "Epoch 97/180\n",
      "36000/36000 [==============================] - 34s 942us/step - loss: 26.1097 - mean_squared_error: 2921.8184 - val_loss: 25.5563 - val_mean_squared_error: 2910.5537\n",
      "Epoch 98/180\n",
      "36000/36000 [==============================] - 34s 950us/step - loss: 26.1382 - mean_squared_error: 2921.7290 - val_loss: 25.3628 - val_mean_squared_error: 2901.4355\n",
      "Epoch 99/180\n",
      "36000/36000 [==============================] - 34s 934us/step - loss: 26.1077 - mean_squared_error: 2920.2627 - val_loss: 26.3477 - val_mean_squared_error: 2935.7454\n",
      "Epoch 100/180\n",
      "36000/36000 [==============================] - 34s 939us/step - loss: 26.0887 - mean_squared_error: 2919.5142 - val_loss: 26.2673 - val_mean_squared_error: 2927.8513\n",
      "Epoch 101/180\n",
      "36000/36000 [==============================] - 34s 939us/step - loss: 26.1468 - mean_squared_error: 2920.5103 - val_loss: 25.0489 - val_mean_squared_error: 2895.2437\n",
      "Epoch 102/180\n",
      "36000/36000 [==============================] - 34s 941us/step - loss: 26.1372 - mean_squared_error: 2922.7939 - val_loss: 26.5313 - val_mean_squared_error: 2933.1946\n",
      "Epoch 103/180\n",
      "36000/36000 [==============================] - 34s 940us/step - loss: 26.0485 - mean_squared_error: 2918.6169 - val_loss: 25.5360 - val_mean_squared_error: 2907.5430\n",
      "Epoch 104/180\n",
      "36000/36000 [==============================] - 34s 946us/step - loss: 26.0897 - mean_squared_error: 2920.0195 - val_loss: 26.1781 - val_mean_squared_error: 2925.2957\n",
      "Epoch 105/180\n",
      "36000/36000 [==============================] - 34s 940us/step - loss: 26.0831 - mean_squared_error: 2920.3196 - val_loss: 26.4043 - val_mean_squared_error: 2930.6882\n",
      "Epoch 106/180\n",
      "36000/36000 [==============================] - 34s 936us/step - loss: 26.0672 - mean_squared_error: 2920.4609 - val_loss: 25.3027 - val_mean_squared_error: 2902.7712\n",
      "Epoch 107/180\n",
      "36000/36000 [==============================] - 34s 940us/step - loss: 26.0362 - mean_squared_error: 2918.5991 - val_loss: 26.3442 - val_mean_squared_error: 2954.4133\n",
      "Epoch 108/180\n",
      "36000/36000 [==============================] - 34s 948us/step - loss: 26.0418 - mean_squared_error: 2918.2344 - val_loss: 26.2353 - val_mean_squared_error: 2925.0820\n",
      "Epoch 109/180\n",
      "36000/36000 [==============================] - 34s 946us/step - loss: 26.0392 - mean_squared_error: 2918.4639 - val_loss: 27.8366 - val_mean_squared_error: 3002.2507\n",
      "Epoch 110/180\n",
      "36000/36000 [==============================] - 34s 951us/step - loss: 26.0353 - mean_squared_error: 2917.0742 - val_loss: 24.9585 - val_mean_squared_error: 2890.2161\n",
      "Epoch 111/180\n",
      "36000/36000 [==============================] - 34s 941us/step - loss: 26.0064 - mean_squared_error: 2916.7139 - val_loss: 26.2146 - val_mean_squared_error: 2945.4792\n",
      "Epoch 112/180\n",
      "36000/36000 [==============================] - 34s 941us/step - loss: 26.0651 - mean_squared_error: 2918.6138 - val_loss: 25.4112 - val_mean_squared_error: 2905.6687\n",
      "Epoch 113/180\n",
      "36000/36000 [==============================] - 34s 933us/step - loss: 25.9988 - mean_squared_error: 2916.8154 - val_loss: 25.8197 - val_mean_squared_error: 2915.8743\n",
      "Epoch 114/180\n",
      "36000/36000 [==============================] - 34s 938us/step - loss: 26.0233 - mean_squared_error: 2917.0044 - val_loss: 28.8669 - val_mean_squared_error: 3003.2397\n",
      "Epoch 115/180\n",
      "36000/36000 [==============================] - 34s 938us/step - loss: 26.0551 - mean_squared_error: 2918.6763 - val_loss: 25.8119 - val_mean_squared_error: 2912.7192\n",
      "Epoch 116/180\n",
      "36000/36000 [==============================] - 34s 942us/step - loss: 25.9656 - mean_squared_error: 2914.9121 - val_loss: 25.0718 - val_mean_squared_error: 2891.3616\n",
      "Epoch 117/180\n",
      "36000/36000 [==============================] - 34s 941us/step - loss: 25.9916 - mean_squared_error: 2917.4407 - val_loss: 25.1270 - val_mean_squared_error: 2897.3574\n",
      "Epoch 118/180\n",
      "36000/36000 [==============================] - 34s 936us/step - loss: 26.0340 - mean_squared_error: 2917.1370 - val_loss: 25.7576 - val_mean_squared_error: 2919.9954\n",
      "Epoch 119/180\n",
      "36000/36000 [==============================] - 140s 4ms/step - loss: 25.9519 - mean_squared_error: 2913.8765 - val_loss: 28.7312 - val_mean_squared_error: 3032.6895\n",
      "Epoch 120/180\n",
      "36000/36000 [==============================] - 35s 961us/step - loss: 26.0169 - mean_squared_error: 2916.3384 - val_loss: 25.4712 - val_mean_squared_error: 2902.5686\n",
      "Epoch 121/180\n",
      "36000/36000 [==============================] - 34s 956us/step - loss: 26.0320 - mean_squared_error: 2917.1917 - val_loss: 25.2495 - val_mean_squared_error: 2904.6541\n",
      "Epoch 122/180\n",
      "36000/36000 [==============================] - 35s 961us/step - loss: 26.0017 - mean_squared_error: 2917.4966 - val_loss: 26.8344 - val_mean_squared_error: 2936.0396\n",
      "Epoch 123/180\n",
      "36000/36000 [==============================] - 35s 959us/step - loss: 25.9680 - mean_squared_error: 2915.1274 - val_loss: 26.3405 - val_mean_squared_error: 2925.8870\n",
      "Epoch 124/180\n",
      "36000/36000 [==============================] - 34s 953us/step - loss: 26.0022 - mean_squared_error: 2916.3452 - val_loss: 26.1019 - val_mean_squared_error: 2933.1396\n",
      "Epoch 125/180\n",
      "36000/36000 [==============================] - 34s 952us/step - loss: 25.9855 - mean_squared_error: 2916.0151 - val_loss: 26.8685 - val_mean_squared_error: 2958.0386\n",
      "Epoch 126/180\n",
      "36000/36000 [==============================] - 35s 961us/step - loss: 26.0455 - mean_squared_error: 2918.5339 - val_loss: 25.0380 - val_mean_squared_error: 2889.7041\n",
      "Epoch 127/180\n",
      "36000/36000 [==============================] - 34s 954us/step - loss: 25.9811 - mean_squared_error: 2915.7212 - val_loss: 25.3995 - val_mean_squared_error: 2909.8145\n",
      "Epoch 128/180\n",
      "36000/36000 [==============================] - 34s 955us/step - loss: 25.9994 - mean_squared_error: 2917.9072 - val_loss: 25.6859 - val_mean_squared_error: 2907.8835\n",
      "Epoch 129/180\n",
      "36000/36000 [==============================] - 34s 957us/step - loss: 25.9669 - mean_squared_error: 2914.2959 - val_loss: 25.3291 - val_mean_squared_error: 2895.5593\n",
      "Epoch 130/180\n",
      "36000/36000 [==============================] - 35s 967us/step - loss: 25.9505 - mean_squared_error: 2915.0479 - val_loss: 25.6447 - val_mean_squared_error: 2919.3972\n",
      "Epoch 131/180\n",
      "36000/36000 [==============================] - 35s 958us/step - loss: 25.9770 - mean_squared_error: 2916.0012 - val_loss: 26.0743 - val_mean_squared_error: 2927.2527\n",
      "Epoch 132/180\n",
      "36000/36000 [==============================] - 34s 953us/step - loss: 25.9243 - mean_squared_error: 2913.3057 - val_loss: 27.1549 - val_mean_squared_error: 2970.6360\n",
      "Epoch 133/180\n",
      "36000/36000 [==============================] - 34s 957us/step - loss: 26.0316 - mean_squared_error: 2917.1399 - val_loss: 25.0591 - val_mean_squared_error: 2893.0393\n",
      "Epoch 134/180\n",
      "36000/36000 [==============================] - 35s 966us/step - loss: 25.9758 - mean_squared_error: 2913.8508 - val_loss: 26.5392 - val_mean_squared_error: 2937.1306\n",
      "Epoch 135/180\n",
      "36000/36000 [==============================] - 35s 966us/step - loss: 25.9672 - mean_squared_error: 2915.7373 - val_loss: 27.1478 - val_mean_squared_error: 2963.1274\n",
      "Epoch 136/180\n",
      "36000/36000 [==============================] - 34s 944us/step - loss: 25.9692 - mean_squared_error: 2915.1548 - val_loss: 24.8193 - val_mean_squared_error: 2890.1880\n",
      "Epoch 137/180\n",
      "36000/36000 [==============================] - 34s 946us/step - loss: 25.9371 - mean_squared_error: 2912.7097 - val_loss: 25.0384 - val_mean_squared_error: 2890.7800\n",
      "Epoch 138/180\n",
      "36000/36000 [==============================] - 34s 948us/step - loss: 25.9948 - mean_squared_error: 2914.0747 - val_loss: 27.5691 - val_mean_squared_error: 2972.8621\n",
      "Epoch 139/180\n",
      "36000/36000 [==============================] - 34s 940us/step - loss: 25.9382 - mean_squared_error: 2913.1577 - val_loss: 29.4473 - val_mean_squared_error: 3049.4487\n",
      "Epoch 140/180\n",
      "36000/36000 [==============================] - 34s 941us/step - loss: 25.9108 - mean_squared_error: 2912.1836 - val_loss: 25.3777 - val_mean_squared_error: 2900.0942s - loss: 25.9039 - mean_squared_erro\n",
      "Epoch 141/180\n",
      "36000/36000 [==============================] - 34s 934us/step - loss: 25.9372 - mean_squared_error: 2914.2366 - val_loss: 25.7319 - val_mean_squared_error: 2908.9070\n",
      "Epoch 142/180\n",
      "36000/36000 [==============================] - 34s 943us/step - loss: 25.8969 - mean_squared_error: 2913.1003 - val_loss: 25.5680 - val_mean_squared_error: 2907.0586\n",
      "Epoch 143/180\n",
      "36000/36000 [==============================] - 34s 943us/step - loss: 25.8939 - mean_squared_error: 2911.1094 - val_loss: 25.4723 - val_mean_squared_error: 2901.2183\n",
      "Epoch 144/180\n",
      "36000/36000 [==============================] - 34s 950us/step - loss: 25.9333 - mean_squared_error: 2913.7583 - val_loss: 27.1751 - val_mean_squared_error: 2972.4087\n",
      "Epoch 145/180\n",
      "36000/36000 [==============================] - 34s 947us/step - loss: 25.9452 - mean_squared_error: 2913.6890 - val_loss: 24.8901 - val_mean_squared_error: 2888.8567\n",
      "Epoch 146/180\n",
      "36000/36000 [==============================] - 34s 948us/step - loss: 25.8684 - mean_squared_error: 2911.5571 - val_loss: 25.4922 - val_mean_squared_error: 2906.1086\n",
      "Epoch 147/180\n",
      "36000/36000 [==============================] - 34s 951us/step - loss: 25.9134 - mean_squared_error: 2912.4888 - val_loss: 25.6617 - val_mean_squared_error: 2909.7817\n",
      "Epoch 148/180\n",
      "36000/36000 [==============================] - 34s 954us/step - loss: 25.9453 - mean_squared_error: 2911.8950 - val_loss: 29.8225 - val_mean_squared_error: 3076.8911\n",
      "Epoch 149/180\n",
      "36000/36000 [==============================] - 35s 962us/step - loss: 25.9432 - mean_squared_error: 2913.6370 - val_loss: 26.1314 - val_mean_squared_error: 2920.1343quared_error: 2\n",
      "Epoch 150/180\n",
      "36000/36000 [==============================] - 38s 1ms/step - loss: 25.8927 - mean_squared_error: 2912.4971 - val_loss: 25.4220 - val_mean_squared_error: 2900.7415\n",
      "Epoch 151/180\n",
      "36000/36000 [==============================] - 37s 1ms/step - loss: 25.9176 - mean_squared_error: 2912.6597 - val_loss: 25.0282 - val_mean_squared_error: 2890.3875\n",
      "Epoch 152/180\n",
      "36000/36000 [==============================] - 34s 952us/step - loss: 25.9135 - mean_squared_error: 2912.0920 - val_loss: 24.6827 - val_mean_squared_error: 2880.3411\n",
      "Epoch 153/180\n",
      "36000/36000 [==============================] - 34s 957us/step - loss: 25.9002 - mean_squared_error: 2911.2561 - val_loss: 27.3649 - val_mean_squared_error: 2964.5828\n",
      "Epoch 154/180\n",
      "36000/36000 [==============================] - 35s 966us/step - loss: 25.8889 - mean_squared_error: 2910.9324 - val_loss: 25.7236 - val_mean_squared_error: 2915.3440\n",
      "Epoch 155/180\n",
      "36000/36000 [==============================] - 35s 971us/step - loss: 25.8810 - mean_squared_error: 2910.8237 - val_loss: 25.0579 - val_mean_squared_error: 2894.1570\n",
      "Epoch 156/180\n",
      "36000/36000 [==============================] - 35s 968us/step - loss: 25.8571 - mean_squared_error: 2910.7854 - val_loss: 26.0819 - val_mean_squared_error: 2936.4158\n",
      "Epoch 157/180\n",
      "36000/36000 [==============================] - 35s 976us/step - loss: 25.8643 - mean_squared_error: 2911.1768 - val_loss: 24.8874 - val_mean_squared_error: 2886.0520\n",
      "Epoch 158/180\n",
      "36000/36000 [==============================] - 35s 972us/step - loss: 25.9246 - mean_squared_error: 2913.5679 - val_loss: 26.1990 - val_mean_squared_error: 2943.7251\n",
      "Epoch 159/180\n",
      "36000/36000 [==============================] - 35s 964us/step - loss: 25.8632 - mean_squared_error: 2909.6487 - val_loss: 29.4619 - val_mean_squared_error: 3045.5334\n",
      "Epoch 160/180\n",
      "36000/36000 [==============================] - 35s 967us/step - loss: 25.8683 - mean_squared_error: 2910.3293 - val_loss: 27.2289 - val_mean_squared_error: 2985.8823\n",
      "Epoch 161/180\n",
      "36000/36000 [==============================] - 35s 972us/step - loss: 25.8400 - mean_squared_error: 2909.6074 - val_loss: 25.6840 - val_mean_squared_error: 2919.4377\n",
      "Epoch 162/180\n",
      "36000/36000 [==============================] - 35s 970us/step - loss: 25.8208 - mean_squared_error: 2907.9194 - val_loss: 25.3225 - val_mean_squared_error: 2896.6440\n",
      "Epoch 163/180\n",
      "36000/36000 [==============================] - 35s 962us/step - loss: 25.8990 - mean_squared_error: 2911.6362 - val_loss: 26.3201 - val_mean_squared_error: 2928.0818\n",
      "Epoch 164/180\n",
      "36000/36000 [==============================] - 36s 987us/step - loss: 25.8477 - mean_squared_error: 2908.5474 - val_loss: 29.6690 - val_mean_squared_error: 3038.1760\n",
      "Epoch 165/180\n",
      "36000/36000 [==============================] - 35s 976us/step - loss: 25.8283 - mean_squared_error: 2909.6650 - val_loss: 25.8885 - val_mean_squared_error: 2915.4788\n",
      "Epoch 166/180\n",
      "36000/36000 [==============================] - 36s 988us/step - loss: 25.8466 - mean_squared_error: 2910.0400 - val_loss: 24.8544 - val_mean_squared_error: 2886.3054\n",
      "Epoch 167/180\n",
      "36000/36000 [==============================] - 35s 979us/step - loss: 25.8454 - mean_squared_error: 2910.4419 - val_loss: 25.7740 - val_mean_squared_error: 2915.8147\n",
      "Epoch 168/180\n",
      "36000/36000 [==============================] - 35s 984us/step - loss: 25.8869 - mean_squared_error: 2910.5886 - val_loss: 26.9556 - val_mean_squared_error: 2956.6277\n",
      "Epoch 169/180\n",
      "36000/36000 [==============================] - 36s 989us/step - loss: 25.8897 - mean_squared_error: 2909.6812 - val_loss: 24.9608 - val_mean_squared_error: 2894.4587\n",
      "Epoch 170/180\n",
      "36000/36000 [==============================] - 36s 992us/step - loss: 25.9164 - mean_squared_error: 2912.5081 - val_loss: 24.7152 - val_mean_squared_error: 2880.6296\n",
      "Epoch 171/180\n",
      "36000/36000 [==============================] - 35s 976us/step - loss: 25.8612 - mean_squared_error: 2909.7134 - val_loss: 24.8681 - val_mean_squared_error: 2885.6423\n",
      "Epoch 172/180\n",
      "36000/36000 [==============================] - 36s 990us/step - loss: 25.8322 - mean_squared_error: 2908.8376 - val_loss: 31.2348 - val_mean_squared_error: 3110.1733\n",
      "Epoch 173/180\n",
      "36000/36000 [==============================] - 36s 987us/step - loss: 25.8245 - mean_squared_error: 2908.6392 - val_loss: 24.9704 - val_mean_squared_error: 2891.2300\n",
      "Epoch 174/180\n",
      "36000/36000 [==============================] - 36s 989us/step - loss: 25.8433 - mean_squared_error: 2908.9836 - val_loss: 26.7417 - val_mean_squared_error: 2948.9353\n",
      "Epoch 175/180\n",
      "36000/36000 [==============================] - 35s 978us/step - loss: 25.8095 - mean_squared_error: 2908.8179 - val_loss: 25.8250 - val_mean_squared_error: 2910.0657\n",
      "Epoch 176/180\n",
      "36000/36000 [==============================] - 35s 980us/step - loss: 25.8035 - mean_squared_error: 2907.8386 - val_loss: 24.8398 - val_mean_squared_error: 2885.9016\n",
      "Epoch 177/180\n",
      "36000/36000 [==============================] - 35s 965us/step - loss: 25.8293 - mean_squared_error: 2907.7754 - val_loss: 24.9033 - val_mean_squared_error: 2888.6201\n",
      "Epoch 178/180\n",
      "36000/36000 [==============================] - 35s 974us/step - loss: 25.8016 - mean_squared_error: 2908.3738 - val_loss: 25.6132 - val_mean_squared_error: 2907.2654\n",
      "Epoch 179/180\n",
      "36000/36000 [==============================] - 35s 984us/step - loss: 25.8812 - mean_squared_error: 2911.5186 - val_loss: 25.4746 - val_mean_squared_error: 2900.7537\n",
      "Epoch 180/180\n",
      "36000/36000 [==============================] - 35s 984us/step - loss: 25.8323 - mean_squared_error: 2909.1230 - val_loss: 26.0130 - val_mean_squared_error: 2920.2703\n"
     ]
    },
    {
     "data": {
      "text/plain": [
       "<keras.callbacks.History at 0x2734d04cac8>"
      ]
     },
     "execution_count": 16,
     "metadata": {},
     "output_type": "execute_result"
    }
   ],
   "source": [
    "# Load dependencies\n",
    "import tensorflow as tf\n",
    "\n",
    "from tensorflow.keras.models import Sequential\n",
    "from tensorflow.keras.layers import Dense\n",
    "import numpy as np\n",
    "\n",
    "# Set the input shape\n",
    "input_shape = (6,)\n",
    "\n",
    "# Create the model\n",
    "model = Sequential()\n",
    "model.add(Dense(8, input_shape=input_shape, activation='relu'))\n",
    "model.add(Dense(8, input_shape=input_shape, activation='relu'))\n",
    "model.add(Dense(8, input_shape=input_shape, activation='relu'))\n",
    "\n",
    "# Configure the model and start training\n",
    "model.compile(loss='mean_absolute_error', optimizer='adam', metrics=['mean_squared_error'])\n",
    "model.fit(X_train, y_train, epochs=180, batch_size=1, verbose=1, validation_split=0.4)"
   ]
  },
  {
   "cell_type": "code",
   "execution_count": 7,
   "id": "cc75e3ff",
   "metadata": {},
   "outputs": [],
   "source": [
    "# Load dependencies\n",
    "import tensorflow as tf\n",
    "\n",
    "from tensorflow.keras.models import Sequential\n",
    "from tensorflow.keras.layers import Dense\n",
    "import numpy as np\n",
    "\n",
    "# Set the input shape\n",
    "input_shape = (6,)"
   ]
  },
  {
   "cell_type": "code",
   "execution_count": 17,
   "id": "28a17dea",
   "metadata": {},
   "outputs": [
    {
     "ename": "NameError",
     "evalue": "name 'num_classes' is not defined",
     "output_type": "error",
     "traceback": [
      "\u001b[1;31m---------------------------------------------------------------------------\u001b[0m",
      "\u001b[1;31mNameError\u001b[0m                                 Traceback (most recent call last)",
      "\u001b[1;32m~\\AppData\\Local\\Temp\\ipykernel_940\\2707422662.py\u001b[0m in \u001b[0;36m<module>\u001b[1;34m\u001b[0m\n\u001b[0;32m      3\u001b[0m \u001b[0mmodel\u001b[0m\u001b[1;33m.\u001b[0m\u001b[0madd\u001b[0m\u001b[1;33m(\u001b[0m\u001b[0mDense\u001b[0m\u001b[1;33m(\u001b[0m\u001b[1;36m350\u001b[0m\u001b[1;33m,\u001b[0m \u001b[0minput_shape\u001b[0m\u001b[1;33m=\u001b[0m\u001b[0minput_shape\u001b[0m\u001b[1;33m,\u001b[0m \u001b[0mactivation\u001b[0m\u001b[1;33m=\u001b[0m\u001b[1;34m'relu'\u001b[0m\u001b[1;33m)\u001b[0m\u001b[1;33m)\u001b[0m\u001b[1;33m\u001b[0m\u001b[1;33m\u001b[0m\u001b[0m\n\u001b[0;32m      4\u001b[0m \u001b[0mmodel\u001b[0m\u001b[1;33m.\u001b[0m\u001b[0madd\u001b[0m\u001b[1;33m(\u001b[0m\u001b[0mDense\u001b[0m\u001b[1;33m(\u001b[0m\u001b[1;36m50\u001b[0m\u001b[1;33m,\u001b[0m \u001b[0mactivation\u001b[0m\u001b[1;33m=\u001b[0m\u001b[1;34m'relu'\u001b[0m\u001b[1;33m)\u001b[0m\u001b[1;33m)\u001b[0m\u001b[1;33m\u001b[0m\u001b[1;33m\u001b[0m\u001b[0m\n\u001b[1;32m----> 5\u001b[1;33m \u001b[0mmodel\u001b[0m\u001b[1;33m.\u001b[0m\u001b[0madd\u001b[0m\u001b[1;33m(\u001b[0m\u001b[0mDense\u001b[0m\u001b[1;33m(\u001b[0m\u001b[0mnum_classes\u001b[0m\u001b[1;33m,\u001b[0m \u001b[0mactivation\u001b[0m\u001b[1;33m=\u001b[0m\u001b[1;34m'softmax'\u001b[0m\u001b[1;33m)\u001b[0m\u001b[1;33m)\u001b[0m\u001b[1;33m\u001b[0m\u001b[1;33m\u001b[0m\u001b[0m\n\u001b[0m\u001b[0;32m      6\u001b[0m \u001b[1;33m\u001b[0m\u001b[0m\n\u001b[0;32m      7\u001b[0m \u001b[1;31m# Configure the model and start training\u001b[0m\u001b[1;33m\u001b[0m\u001b[1;33m\u001b[0m\u001b[1;33m\u001b[0m\u001b[0m\n",
      "\u001b[1;31mNameError\u001b[0m: name 'num_classes' is not defined"
     ]
    }
   ],
   "source": [
    "# Create the model\n",
    "model = Sequential()\n",
    "model.add(Dense(350, input_shape=input_shape, activation='relu'))\n",
    "model.add(Dense(50, activation='relu'))\n",
    "model.add(Dense(num_classes, activation='softmax'))\n",
    "\n",
    "# Configure the model and start training\n",
    "model.compile(loss='categorical_crossentropy', optimizer='adam', metrics=['accuracy'])\n",
    "model.fit(X_train, y_train, epochs=10, batch_size=250, verbose=1, validation_split=0.2)"
   ]
  },
  {
   "cell_type": "code",
   "execution_count": 24,
   "id": "4ca09e67",
   "metadata": {},
   "outputs": [],
   "source": [
    "# save an sklearn model\n",
    "# https://scikit-learn.org/stable/modules/model_persistence.html\n",
    "\n",
    "# save a tensorflow model\n",
    "# https://www.tensorflow.org/tutorials/keras/save_and_load\n",
    "\n",
    "# export tensorflow mode to a tsjs model\n",
    "# https://www.tensorflow.org/js/tutorials/conversion/import_keras"
   ]
  },
  {
   "cell_type": "code",
   "execution_count": 13,
   "id": "6f0f6a17",
   "metadata": {},
   "outputs": [
    {
     "data": {
      "text/plain": [
       "array([[0., 0., 0., 0., 0., 0., 0., 0.]], dtype=float32)"
      ]
     },
     "execution_count": 13,
     "metadata": {},
     "output_type": "execute_result"
    }
   ],
   "source": [
    "model.predict(np.array([[4,50,1386,334,92,109]]))"
   ]
  },
  {
   "cell_type": "code",
   "execution_count": null,
   "id": "555d3f7f",
   "metadata": {},
   "outputs": [],
   "source": [
    "model = Sequential()\n",
    "model.add(Dense(350, input_shape=input_shape, activation='relu'))\n",
    "model.add(Dense(50, activation='relu'))\n",
    "model.add(Dense(num_classes, activation='softmax'))\n",
    "\n",
    "# Configure the model and start training\n",
    "model.compile(loss='categorical_crossentropy', optimizer='adam', metrics=['accuracy'])\n",
    "model.fit(X_train, Y_train, epochs=10, batch_size=250, verbose=1, validation_split=0.2)\n",
    "\n",
    "# Test the model after training\n",
    "test_results = model.evaluate(X_test, Y_test, verbose=1)\n",
    "print(f'Test results - Loss: {test_results[0]} - Accuracy: {test_results[1]}%')"
   ]
  }
 ],
 "metadata": {
  "kernelspec": {
   "display_name": "Python 3 (ipykernel)",
   "language": "python",
   "name": "python3"
  },
  "language_info": {
   "codemirror_mode": {
    "name": "ipython",
    "version": 3
   },
   "file_extension": ".py",
   "mimetype": "text/x-python",
   "name": "python",
   "nbconvert_exporter": "python",
   "pygments_lexer": "ipython3",
   "version": "3.7.9"
  }
 },
 "nbformat": 4,
 "nbformat_minor": 5
}
